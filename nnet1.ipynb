{
 "cells": [
  {
   "cell_type": "code",
   "execution_count": 1,
   "metadata": {},
   "outputs": [],
   "source": [
    "import tensorflow.keras as keras\n",
    "import numpy as np\n",
    "from scipy.io import loadmat\n",
    "import matplotlib.pyplot as plt\n",
    "%matplotlib inline\n",
    "\n",
    "model_from_json = keras.models.model_from_json\n",
    "\n",
    "types = ['kmno4', 'set1', 'set2', 'set5', 'set9']\n",
    "\n",
    "Sequential=keras.models.Sequential\n",
    "Dense=keras.layers.Dense\n",
    "np.random.seed(7)"
   ]
  },
  {
   "cell_type": "code",
   "execution_count": 7,
   "metadata": {},
   "outputs": [],
   "source": [
    "dataset = loadmat('Final_data/data.mat')\n",
    "X = dataset['train'][:,:16]\n",
    "Y = dataset['train'][:,16]"
   ]
  },
  {
   "cell_type": "code",
   "execution_count": 8,
   "metadata": {},
   "outputs": [],
   "source": [
    "X_val = dataset['val'][:,:16]\n",
    "Y_val = dataset['val'][:,16]"
   ]
  },
  {
   "cell_type": "code",
   "execution_count": 5,
   "metadata": {},
   "outputs": [],
   "source": [
    "model = Sequential()\n",
    "model.add(Dense(24, input_dim=16, activation='relu'))\n",
    "model.add(Dense(24, activation='relu'))\n",
    "model.add(Dense(24, activation='relu'))\n",
    "model.add(Dense(24, activation='relu'))\n",
    "model.add(Dense(5, activation='softmax'))"
   ]
  },
  {
   "cell_type": "code",
   "execution_count": 6,
   "metadata": {},
   "outputs": [],
   "source": [
    "# Compile model\n",
    "model.compile(loss='sparse_categorical_crossentropy', optimizer='adam', metrics=['accuracy'])"
   ]
  },
  {
   "cell_type": "code",
   "execution_count": 7,
   "metadata": {},
   "outputs": [
    {
     "name": "stdout",
     "output_type": "stream",
     "text": [
      "Epoch 1/5\n",
      "3541972/3541972 [==============================] - 395s 112us/step - loss: 0.7174 - acc: 0.6614\n",
      "Epoch 2/5\n",
      "3541972/3541972 [==============================] - 394s 111us/step - loss: 0.6241 - acc: 0.7052\n",
      "Epoch 3/5\n",
      "3541972/3541972 [==============================] - 394s 111us/step - loss: 0.6012 - acc: 0.7152\n",
      "Epoch 4/5\n",
      "3541972/3541972 [==============================] - 393s 111us/step - loss: 0.5898 - acc: 0.7203\n",
      "Epoch 5/5\n",
      "3541972/3541972 [==============================] - 393s 111us/step - loss: 0.5836 - acc: 0.7226\n"
     ]
    },
    {
     "data": {
      "text/plain": [
       "<tensorflow.python.keras.callbacks.History at 0x7ff23af89198>"
      ]
     },
     "execution_count": 7,
     "metadata": {},
     "output_type": "execute_result"
    }
   ],
   "source": [
    "# Fit the model\n",
    "model.fit(X, Y, epochs=5)"
   ]
  },
  {
   "cell_type": "code",
   "execution_count": 8,
   "metadata": {},
   "outputs": [
    {
     "name": "stdout",
     "output_type": "stream",
     "text": [
      "758994/758994 [==============================] - 17s 22us/step\n",
      "\n",
      "acc: 71.79%\n"
     ]
    }
   ],
   "source": [
    "# evaluate the model\n",
    "scores = model.evaluate(X_val, Y_val)\n",
    "print(\"\\n%s: %.2f%%\" % (model.metrics_names[1], scores[1]*100))"
   ]
  },
  {
   "cell_type": "code",
   "execution_count": 9,
   "metadata": {},
   "outputs": [
    {
     "data": {
      "text/plain": [
       "[0.5897582195083315, 0.7179029083237001]"
      ]
     },
     "execution_count": 9,
     "metadata": {},
     "output_type": "execute_result"
    }
   ],
   "source": [
    "scores"
   ]
  },
  {
   "cell_type": "code",
   "execution_count": 10,
   "metadata": {},
   "outputs": [],
   "source": [
    "# serialize model to JSON\n",
    "model_json = model.to_json()\n",
    "with open(\"models/model1.json\", \"w\") as json_file:\n",
    "    json_file.write(model_json)\n",
    "# serialize weights to HDF5\n",
    "model.save_weights(\"models/model1.h5\")"
   ]
  },
  {
   "cell_type": "code",
   "execution_count": 11,
   "metadata": {},
   "outputs": [
    {
     "name": "stdout",
     "output_type": "stream",
     "text": [
      "_________________________________________________________________\n",
      "Layer (type)                 Output Shape              Param #   \n",
      "=================================================================\n",
      "dense (Dense)                (None, 24)                408       \n",
      "_________________________________________________________________\n",
      "dense_1 (Dense)              (None, 24)                600       \n",
      "_________________________________________________________________\n",
      "dense_2 (Dense)              (None, 24)                600       \n",
      "_________________________________________________________________\n",
      "dense_3 (Dense)              (None, 24)                600       \n",
      "_________________________________________________________________\n",
      "dense_4 (Dense)              (None, 5)                 125       \n",
      "=================================================================\n",
      "Total params: 2,333\n",
      "Trainable params: 2,333\n",
      "Non-trainable params: 0\n",
      "_________________________________________________________________\n"
     ]
    }
   ],
   "source": [
    "model.summary()"
   ]
  },
  {
   "cell_type": "code",
   "execution_count": 15,
   "metadata": {},
   "outputs": [
    {
     "name": "stdout",
     "output_type": "stream",
     "text": [
      "Overwriting models/model1.txt\n"
     ]
    }
   ],
   "source": [
    "%%file models/model1.txt\n",
    "acc = 71.79 loss 58.97\n",
    "trained on 3541972 data 5 epochs"
   ]
  },
  {
   "cell_type": "markdown",
   "metadata": {},
   "source": [
    "How to load:"
   ]
  },
  {
   "cell_type": "raw",
   "metadata": {},
   "source": [
    "# load json and create model\n",
    "json_file = open('model.json', 'r')\n",
    "loaded_model_json = json_file.read()\n",
    "json_file.close()\n",
    "loaded_model = model_from_json(loaded_model_json)\n",
    "# load weights into new model\n",
    "loaded_model.load_weights(\"model.h5\")\n",
    "print(\"Loaded model from disk\")"
   ]
  },
  {
   "cell_type": "markdown",
   "metadata": {},
   "source": [
    "# Check some predictions to see what goes wrong"
   ]
  },
  {
   "cell_type": "code",
   "execution_count": 10,
   "metadata": {},
   "outputs": [],
   "source": [
    "json_file = open('models/model1.json', 'r')\n",
    "model_json = json_file.read()\n",
    "json_file.close()\n",
    "model = model_from_json(model_json)\n",
    "model.load_weights('models/model1.h5')\n",
    "# Compile model\n",
    "model.compile(loss='sparse_categorical_crossentropy', optimizer='adam', metrics=['accuracy'])"
   ]
  },
  {
   "cell_type": "markdown",
   "metadata": {},
   "source": [
    "Check if model is alright."
   ]
  },
  {
   "cell_type": "code",
   "execution_count": 11,
   "metadata": {},
   "outputs": [
    {
     "name": "stdout",
     "output_type": "stream",
     "text": [
      "758994/758994 [==============================] - 17s 23us/step\n",
      "\n",
      "acc: 71.79%\n"
     ]
    }
   ],
   "source": [
    "# evaluate the model\n",
    "scores = model.evaluate(X_val, Y_val)\n",
    "print(\"\\n%s: %.2f%%\" % (model.metrics_names[1], scores[1]*100))"
   ]
  },
  {
   "cell_type": "code",
   "execution_count": 21,
   "metadata": {},
   "outputs": [
    {
     "name": "stdout",
     "output_type": "stream",
     "text": [
      "\n",
      "Solution type: kmno4\n",
      "161041/161041 [==============================] - 4s 23us/step\n",
      "acc: 63.48%\n",
      "\n",
      "Solution type: set1\n",
      "205321/205321 [==============================] - 5s 22us/step\n",
      "acc: 65.05%\n",
      "\n",
      "Solution type: set2\n",
      "77615/77615 [==============================] - 2s 22us/step\n",
      "acc: 91.13%\n",
      "\n",
      "Solution type: set5\n",
      "213843/213843 [==============================] - 5s 22us/step\n",
      "acc: 69.61%\n",
      "\n",
      "Solution type: set9\n",
      "101174/101174 [==============================] - 2s 22us/step\n",
      "acc: 88.48%\n"
     ]
    }
   ],
   "source": [
    "for chemtype in range(5):\n",
    "    print('\\nSolution type: {}'.format(types[chemtype]))\n",
    "    mask = (Y_val==chemtype)\n",
    "    m_Y_val = Y_val[mask]\n",
    "    m_X_val = X_val[mask]\n",
    "    # evaluate the model\n",
    "    scores = model.evaluate(m_X_val, m_Y_val)\n",
    "    print(\"%s: %.2f%%\" % (model.metrics_names[1], scores[1]*100))"
   ]
  },
  {
   "cell_type": "raw",
   "metadata": {},
   "source": [
    "for idx in range(10):\n",
    "    print(model.predict(m_X_val[idx:idx+1]))\n",
    "    print(model.evaluate(m_X_val[idx:idx+1],m_Y_val[idx:idx+1]))\n",
    "    print('\\n')"
   ]
  },
  {
   "cell_type": "code",
   "execution_count": 42,
   "metadata": {},
   "outputs": [
    {
     "name": "stdout",
     "output_type": "stream",
     "text": [
      "\n",
      "Solution type: kmno4\n",
      "\n",
      "Solution type: set1\n",
      "\n",
      "Solution type: set2\n",
      "\n",
      "Solution type: set5\n",
      "\n",
      "Solution type: set9\n"
     ]
    },
    {
     "data": {
      "text/plain": [
       "<matplotlib.image.AxesImage at 0x7fe11d511208>"
      ]
     },
     "execution_count": 42,
     "metadata": {},
     "output_type": "execute_result"
    },
    {
     "data": {
      "image/png": "[encoded data removed]",
      "text/plain": [
       "<Figure size 432x288 with 1 Axes>"
      ]
     },
     "metadata": {},
     "output_type": "display_data"
    }
   ],
   "source": [
    "conf_mat = np.zeros((5,5))\n",
    "for chemtype in range(5):\n",
    "    print('\\nSolution type: {}'.format(types[chemtype]))\n",
    "    mask = (Y_val==chemtype)\n",
    "    m_Y_val = Y_val[mask]\n",
    "    m_X_val = X_val[mask]\n",
    "    n = np.sum(mask)\n",
    "    # evaluate the model\n",
    "    preds = np.argmax(model.predict(m_X_val),axis=1)\n",
    "    unique, counts = np.unique(preds, return_counts=True)\n",
    "    d = dict(zip(unique, counts))\n",
    "    for chemtype2 in range(5):\n",
    "        conf_mat[chemtype,chemtype2]=d[chemtype2]\n",
    "plt.imshow(conf_mat,cmap='hot')"
   ]
  },
  {
   "cell_type": "code",
   "execution_count": 45,
   "metadata": {},
   "outputs": [],
   "source": [
    "row_sums = conf_mat.sum(axis=1)\n",
    "normalized_conf_mat = conf_mat / row_sums[:, np.newaxis]"
   ]
  },
  {
   "cell_type": "code",
   "execution_count": 53,
   "metadata": {},
   "outputs": [
    {
     "name": "stdout",
     "output_type": "stream",
     "text": [
      "[[6347 1777   53 1072  750]\n",
      " [1169 6505    8 1653  663]\n",
      " [  88   79 9113  102  616]\n",
      " [ 937 1526   40 6960  534]\n",
      " [ 161  480   38  471 8847]]\n"
     ]
    }
   ],
   "source": [
    "print((normalized_conf_mat*10000).astype(int))"
   ]
  },
  {
   "cell_type": "code",
   "execution_count": 4,
   "metadata": {},
   "outputs": [
    {
     "data": {
      "text/plain": [
       "<matplotlib.image.AxesImage at 0x7f2bed8b0748>"
      ]
     },
     "execution_count": 4,
     "metadata": {},
     "output_type": "execute_result"
    },
    {
     "data": {
      "image/png": "[encoded data removed]",
      "text/plain": [
       "<Figure size 432x288 with 1 Axes>"
      ]
     },
     "metadata": {},
     "output_type": "display_data"
    }
   ],
   "source": [
    "plt.imshow(np.array(\n",
    "[[6347,1777  , 53, 1072,  750],\n",
    " [1169, 6505,    8, 1653,  663,],\n",
    " [  88,   79, 9113,  102,  616,],\n",
    " [ 937, 1526,   40, 6960,  534,],\n",
    " [ 161,  480,   38,  471, 8847]]), cmap='hot')"
   ]
  }
 ],
 "metadata": {
  "kernelspec": {
   "display_name": "Python 3",
   "language": "python",
   "name": "python3"
  },
  "language_info": {
   "codemirror_mode": {
    "name": "ipython",
    "version": 3
   },
   "file_extension": ".py",
   "mimetype": "text/x-python",
   "name": "python",
   "nbconvert_exporter": "python",
   "pygments_lexer": "ipython3",
   "version": "3.5.5"
  }
 },
 "nbformat": 4,
 "nbformat_minor": 2
}
