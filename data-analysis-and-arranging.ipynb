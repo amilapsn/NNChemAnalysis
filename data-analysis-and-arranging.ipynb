{
 "cells": [
  {
   "cell_type": "code",
   "execution_count": 2,
   "metadata": {},
   "outputs": [],
   "source": [
    "from scipy.io import loadmat,savemat\n",
    "import numpy as np\n",
    "import glob\n",
    "import random\n",
    "import matplotlib.pyplot as plt\n",
    "%matplotlib inline"
   ]
  },
  {
   "cell_type": "code",
   "execution_count": 2,
   "metadata": {},
   "outputs": [],
   "source": [
    "types = ['kmno4', 'set1', 'set2', 'set5', 'set9']"
   ]
  },
  {
   "cell_type": "raw",
   "metadata": {},
   "source": [
    "17-08-2018 / set5 -----> Cobalt Acetate\n",
    "17-08-2018 / set2 -----> Potassium Dichromate\n",
    "17-08-2018 / set1 -----> Copper Sulphate\n",
    "17-08-2018 / Potassium Permanganate -----> KMnO4\n",
    "17-08-2018 / 17-08-2018/set 9  -----> NaOH + KMnO4 mixed solution"
   ]
  },
  {
   "cell_type": "markdown",
   "metadata": {},
   "source": [
    "# Extract data."
   ]
  },
  {
   "cell_type": "code",
   "execution_count": 1,
   "metadata": {},
   "outputs": [
    {
     "name": "stdout",
     "output_type": "stream",
     "text": [
      "data/\n",
      "├── kmno4\n",
      "│   ├── kmno4_1.zip\n",
      "│   └── kmno4_2.rar\n",
      "├── set1\n",
      "│   ├── set1_1.rar\n",
      "│   └── set1_2.rar\n",
      "├── set2\n",
      "│   ├── set2_1.rar\n",
      "│   └── set2_2.rar\n",
      "├── set5\n",
      "│   ├── set5_1.rar\n",
      "│   └── set5_2.rar\n",
      "└── set9\n",
      "    ├── set9_1.rar\n",
      "    └── set9_2.rar\n",
      "\n",
      "5 directories, 10 files\n"
     ]
    }
   ],
   "source": [
    "!tree data/"
   ]
  },
  {
   "cell_type": "code",
   "execution_count": null,
   "metadata": {},
   "outputs": [],
   "source": [
    "!unzip data/kmno4/kmno4_1.zip"
   ]
  },
  {
   "cell_type": "code",
   "execution_count": null,
   "metadata": {},
   "outputs": [],
   "source": [
    "!unrar e data/kmno4/kmno4_2.rar data/kmo4/"
   ]
  },
  {
   "cell_type": "code",
   "execution_count": null,
   "metadata": {},
   "outputs": [],
   "source": [
    "%%bash\n",
    "for i in 1 2 5 9;\n",
    "do\n",
    "for j in 1 2;\n",
    "do\n",
    "unrar e data/set$i/set$i\\_$j.rar data/set$i/\n",
    "done\n",
    "done"
   ]
  },
  {
   "cell_type": "markdown",
   "metadata": {},
   "source": [
    "# Merge scattering and transmittance data and seive uniques"
   ]
  },
  {
   "cell_type": "code",
   "execution_count": 4,
   "metadata": {},
   "outputs": [],
   "source": [
    "def seive(chemtype,matfile):\n",
    "    x=loadmat(matfile)\n",
    "    chemid = types.index(chemtype)\n",
    "    concentration_string=x['filename1'][0]\n",
    "    if concentration_string=='outlier':\n",
    "        return 0, 0\n",
    "    elif not concentration_string.isnumeric():\n",
    "        concentration_string = concentration_string[:2]\n",
    "    concentration=int(concentration_string)\n",
    "    scattering = x['scattering'][0][0][0]\n",
    "    transmittance = x['direct'][0][0][0]\n",
    "    merged = np.concatenate((scattering,transmittance), axis=1)\n",
    "    uq_merged = np.unique(merged, axis=0)\n",
    "    uq_count = uq_merged.shape[0]\n",
    "    type_col = np.ones((uq_count,1))*chemid\n",
    "    concentration_col = np.ones((uq_count,1))*concentration\n",
    "    uq_merged = np.concatenate((uq_merged, type_col, concentration_col),axis=1)\n",
    "    np.savetxt(\"seived/{}_{:03d}.csv\".format(chemtype,concentration), uq_merged, delimiter=\",\")\n",
    "    return uq_count, concentration"
   ]
  },
  {
   "cell_type": "code",
   "execution_count": 5,
   "metadata": {},
   "outputs": [
    {
     "name": "stdout",
     "output_type": "stream",
     "text": [
      "kmno4 Concentration = 35 Count = 32473\n",
      "kmno4 Concentration = 40 Count = 34871\n",
      "kmno4 Concentration = 185 Count = 36541\n",
      "kmno4 Concentration = 95 Count = 28387\n",
      "kmno4 Concentration = 115 Count = 30535\n",
      "kmno4 Concentration = 140 Count = 33561\n",
      "kmno4 Concentration = 145 Count = 31975\n",
      "kmno4 Concentration = 125 Count = 31420\n",
      "kmno4 Concentration = 65 Count = 32314\n",
      "kmno4 Concentration = 110 Count = 32976\n",
      "kmno4 Concentration = 165 Count = 18818\n",
      "kmno4 Concentration = 105 Count = 30729\n",
      "kmno4 Concentration = 155 Count = 32638\n",
      "kmno4 Concentration = 45 Count = 35226\n",
      "kmno4 Concentration = 160 Count = 24738\n",
      "kmno4 Concentration = 120 Count = 30675\n",
      "kmno4 Concentration = 180 Count = 32615\n",
      "kmno4 Concentration = 175 Count = 17324\n",
      "kmno4 Concentration = 90 Count = 28998\n",
      "kmno4 Concentration = 170 Count = 26790\n",
      "kmno4 Concentration = 70 Count = 32801\n",
      "kmno4 Concentration = 30 Count = 33184\n",
      "kmno4 Concentration = 50 Count = 32830\n",
      "kmno4 Concentration = 190 Count = 33761\n",
      "kmno4 Concentration = 55 Count = 30012\n",
      "kmno4 Concentration = 75 Count = 34205\n",
      "kmno4 Concentration = 85 Count = 29151\n",
      "kmno4 Concentration = 195 Count = 34466\n",
      "kmno4 Concentration = 130 Count = 33424\n",
      "kmno4 Concentration = 150 Count = 31849\n",
      "kmno4 Concentration = 100 Count = 30093\n",
      "kmno4 Concentration = 135 Count = 33071\n",
      "kmno4 Concentration = 60 Count = 31549\n",
      "kmno4 Concentration = 80 Count = 28813\n",
      "kmno4 Concentration = 200 Count = 29110\n",
      "kmno4 total=1081923\n",
      "set1 Concentration = 17 Count = 43995\n",
      "set1 Concentration = 30 Count = 34482\n",
      "set1 Concentration = 195 Count = 22051\n",
      "set1 Concentration = 35 Count = 35089\n",
      "set1 Concentration = 70 Count = 36190\n",
      "set1 Concentration = 200 Count = 26493\n",
      "set1 Concentration = 210 Count = 29946\n",
      "set1 Concentration = 40 Count = 35538\n",
      "set1 Concentration = 85 Count = 35250\n",
      "set1 Concentration = 120 Count = 37261\n",
      "set1 Concentration = 190 Count = 27095\n",
      "set1 Concentration = 175 Count = 37482\n",
      "set1 Concentration = 165 Count = 37000\n",
      "set1 Concentration = 115 Count = 36469\n",
      "set1 Concentration = 95 Count = 35656\n",
      "set1 Concentration = 55 Count = 36546\n",
      "set1 Concentration = 220 Count = 21644\n",
      "set1 Concentration = 105 Count = 36250\n",
      "set1 Concentration = 110 Count = 37663\n",
      "set1 Concentration = 60 Count = 40005\n",
      "set1 Concentration = 130 Count = 38281\n",
      "set1 Concentration = 100 Count = 36257\n",
      "set1 Concentration = 160 Count = 38557\n",
      "set1 Concentration = 145 Count = 36794\n",
      "set1 Concentration = 80 Count = 24030\n",
      "set1 Concentration = 125 Count = 37631\n",
      "set1 Concentration = 185 Count = 23027\n",
      "set1 Concentration = 215 Count = 28736\n",
      "set1 Concentration = 75 Count = 40723\n",
      "set1 Concentration = 225 Count = 22463\n",
      "set1 Concentration = 45 Count = 35743\n",
      "set1 Concentration = 50 Count = 36280\n",
      "set1 Concentration = 150 Count = 36456\n",
      "set1 Concentration = 180 Count = 37927\n",
      "set1 Concentration = 135 Count = 37220\n",
      "set1 Concentration = 90 Count = 36018\n",
      "set1 Concentration = 205 Count = 27907\n",
      "set1 Concentration = 155 Count = 36284\n",
      "set1 Concentration = 140 Count = 36679\n",
      "set1 Concentration = 65 Count = 36052\n",
      "set1 total=1365170\n",
      "set2 Concentration = 16 Count = 44754\n",
      "set2 Concentration = 18 Count = 26436\n",
      "set2 Concentration = 60 Count = 27658\n",
      "set2 Concentration = 10 Count = 28234\n",
      "set2 Concentration = 14 Count = 25203\n",
      "set2 Concentration = 95 Count = 10126\n",
      "set2 Concentration = 19 Count = 29769\n",
      "set2 Concentration = 11 Count = 25818\n",
      "set2 Concentration = 0 Count = 0\n",
      "set2 Concentration = 75 Count = 19911\n",
      "set2 Concentration = 19 Count = 38752\n",
      "set2 Concentration = 15 Count = 41001\n",
      "set2 Concentration = 70 Count = 22006\n",
      "set2 Concentration = 12 Count = 20339\n",
      "set2 Concentration = 13 Count = 28092\n",
      "set2 Concentration = 11 Count = 25681\n",
      "set2 Concentration = 90 Count = 4522\n",
      "set2 Concentration = 65 Count = 23510\n",
      "set2 Concentration = 18 Count = 39535\n",
      "set2 Concentration = 15 Count = 32080\n",
      "set2 Concentration = 17 Count = 47466\n",
      "set2 Concentration = 13 Count = 25463\n",
      "set2 Concentration = 55 Count = 29859\n",
      "set2 Concentration = 14 Count = 24502\n",
      "set2 Concentration = 80 Count = 20250\n",
      "set2 Concentration = 12 Count = 30305\n",
      "set2 Concentration = 16 Count = 46565\n",
      "set2 Concentration = 85 Count = 21176\n",
      "set2 Concentration = 10 Count = 28409\n",
      "set2 Concentration = 17 Count = 46951\n",
      "set2 total=834373\n",
      "set5 Concentration = 145 Count = 35639\n",
      "set5 Concentration = 150 Count = 42367\n",
      "set5 Concentration = 190 Count = 38066\n",
      "set5 Concentration = 185 Count = 37649\n",
      "set5 Concentration = 155 Count = 44769\n",
      "set5 Concentration = 40 Count = 36050\n",
      "set5 Concentration = 115 Count = 41818\n",
      "set5 Concentration = 180 Count = 39367\n",
      "set5 Concentration = 160 Count = 26835\n",
      "set5 Concentration = 205 Count = 37964\n",
      "set5 Concentration = 110 Count = 34212\n",
      "set5 Concentration = 120 Count = 41590\n",
      "set5 Concentration = 80 Count = 34492\n",
      "set5 Concentration = 35 Count = 34755\n",
      "set5 Concentration = 65 Count = 38358\n",
      "set5 Concentration = 105 Count = 33807\n",
      "set5 Concentration = 55 Count = 35866\n",
      "set5 Concentration = 195 Count = 25568\n",
      "set5 Concentration = 45 Count = 35123\n",
      "set5 Concentration = 70 Count = 35960\n",
      "set5 Concentration = 60 Count = 33714\n",
      "set5 Concentration = 30 Count = 36401\n",
      "set5 Concentration = 130 Count = 36688\n",
      "set5 Concentration = 50 Count = 37124\n",
      "set5 Concentration = 90 Count = 32888\n",
      "set5 Concentration = 210 Count = 38141\n",
      "set5 Concentration = 75 Count = 36282\n",
      "set5 Concentration = 125 Count = 41099\n",
      "set5 Concentration = 220 Count = 37298\n",
      "set5 Concentration = 215 Count = 37829\n",
      "set5 Concentration = 85 Count = 33633\n",
      "set5 Concentration = 95 Count = 37215\n",
      "set5 Concentration = 225 Count = 36762\n",
      "set5 Concentration = 200 Count = 25660\n",
      "set5 Concentration = 165 Count = 28312\n",
      "set5 Concentration = 170 Count = 27716\n",
      "set5 Concentration = 175 Count = 23476\n",
      "set5 Concentration = 135 Count = 44498\n",
      "set5 Concentration = 140 Count = 34958\n",
      "set5 Concentration = 100 Count = 33381\n",
      "set5 total=1423330\n",
      "set9 Concentration = 130 Count = 29987\n",
      "set9 Concentration = 115 Count = 34802\n",
      "set9 Concentration = 170 Count = 21240\n",
      "set9 Concentration = 75 Count = 16459\n",
      "set9 Concentration = 165 Count = 18076\n",
      "set9 Concentration = 95 Count = 17562\n",
      "set9 Concentration = 105 Count = 14656\n",
      "set9 Concentration = 100 Count = 17394\n",
      "set9 Concentration = 65 Count = 16196\n",
      "set9 Concentration = 175 Count = 17778\n",
      "set9 Concentration = 85 Count = 14873\n",
      "set9 Concentration = 55 Count = 32684\n",
      "set9 Concentration = 36 Count = 29723\n",
      "set9 Concentration = 180 Count = 17901\n",
      "set9 Concentration = 80 Count = 13436\n",
      "set9 Concentration = 140 Count = 29018\n",
      "set9 Concentration = 50 Count = 31134\n",
      "set9 Concentration = 110 Count = 34525\n",
      "set9 Concentration = 125 Count = 32710\n",
      "set9 Concentration = 120 Count = 32813\n",
      "set9 Concentration = 40 Count = 29441\n",
      "set9 Concentration = 155 Count = 17584\n",
      "set9 Concentration = 145 Count = 13440\n",
      "set9 Concentration = 45 Count = 30310\n",
      "set9 Concentration = 150 Count = 18077\n",
      "set9 Concentration = 70 Count = 14976\n",
      "set9 Concentration = 160 Count = 16225\n",
      "set9 Concentration = 135 Count = 29844\n",
      "set9 Concentration = 90 Count = 14892\n",
      "set9 Concentration = 60 Count = 14520\n",
      "set9 total=672276\n"
     ]
    }
   ],
   "source": [
    "for chemtype in types:\n",
    "    total=0\n",
    "    for matfile in glob.glob('data/{}/*.mat'.format(chemtype)):\n",
    "        try:\n",
    "            uq_count, concentration=seive(chemtype,matfile)\n",
    "            total+=uq_count\n",
    "            print('%s Concentration = %d Count = %d'%(chemtype,concentration, uq_count))\n",
    "        except Exception as e:\n",
    "            print(e, matfile)\n",
    "    print('%s total=%d'%(chemtype,total))"
   ]
  },
  {
   "cell_type": "code",
   "execution_count": 6,
   "metadata": {},
   "outputs": [
    {
     "name": "stdout",
     "output_type": "stream",
     "text": [
      "2.2G\tseived\n"
     ]
    }
   ],
   "source": [
    "!du -hs seived"
   ]
  },
  {
   "cell_type": "markdown",
   "metadata": {},
   "source": [
    "# Shuffling data"
   ]
  },
  {
   "cell_type": "markdown",
   "metadata": {},
   "source": [
    "> RAM intensive!"
   ]
  },
  {
   "cell_type": "code",
   "execution_count": 47,
   "metadata": {},
   "outputs": [],
   "source": [
    "x=np.loadtxt(glob.glob('seived/*csv')[0],delimiter=',')"
   ]
  },
  {
   "cell_type": "code",
   "execution_count": 40,
   "metadata": {},
   "outputs": [
    {
     "data": {
      "text/plain": [
       "(37663, 18)"
      ]
     },
     "execution_count": 40,
     "metadata": {},
     "output_type": "execute_result"
    }
   ],
   "source": [
    "x.shape"
   ]
  },
  {
   "cell_type": "code",
   "execution_count": 43,
   "metadata": {},
   "outputs": [],
   "source": [
    "np.random.shuffle(x)"
   ]
  },
  {
   "cell_type": "code",
   "execution_count": 44,
   "metadata": {},
   "outputs": [],
   "source": [
    "y=np.unique(x,axis=0)"
   ]
  },
  {
   "cell_type": "code",
   "execution_count": 45,
   "metadata": {},
   "outputs": [
    {
     "data": {
      "text/plain": [
       "(37663, 18)"
      ]
     },
     "execution_count": 45,
     "metadata": {},
     "output_type": "execute_result"
    }
   ],
   "source": [
    "y.shape"
   ]
  },
  {
   "cell_type": "code",
   "execution_count": 46,
   "metadata": {},
   "outputs": [
    {
     "data": {
      "text/plain": [
       "array([[ 2.85806011e-02, -2.56563836e-03,  3.08240732e-02,\n",
       "         2.89068085e-02,  2.77823068e-02,  2.78575462e-02,\n",
       "         2.74313262e-02,  3.67847292e-02,  2.85806011e-02,\n",
       "        -2.56563836e-03,  3.08240732e-02,  2.89068085e-02,\n",
       "         2.77823068e-02,  3.80608951e-02,  2.74313262e-02,\n",
       "         4.69869361e-02,  1.00000000e+00,  1.10000000e+02],\n",
       "       [ 2.85806011e-02, -2.56563836e-03,  3.08240732e-02,\n",
       "         2.89068085e-02,  2.77823068e-02,  2.78575462e-02,\n",
       "         2.74313262e-02,  3.67847292e-02,  2.85806011e-02,\n",
       "        -2.56563836e-03,  3.08240732e-02,  2.89068085e-02,\n",
       "         3.79854788e-02,  2.78575462e-02,  2.74313262e-02,\n",
       "         4.69869361e-02,  1.00000000e+00,  1.10000000e+02],\n",
       "       [ 2.85806011e-02, -2.56563836e-03,  3.08240732e-02,\n",
       "         2.89068085e-02,  2.77823068e-02,  2.78575462e-02,\n",
       "         2.74313262e-02,  3.67847292e-02,  2.85806011e-02,\n",
       "        -2.56563836e-03,  3.08240732e-02,  2.89068085e-02,\n",
       "         3.79854788e-02,  2.78575462e-02,  3.76345569e-02,\n",
       "         3.67847292e-02,  1.00000000e+00,  1.10000000e+02],\n",
       "       [ 2.85806011e-02, -2.56563836e-03,  3.08240732e-02,\n",
       "         2.89068085e-02,  2.77823068e-02,  2.78575462e-02,\n",
       "         2.74313262e-02,  3.67847292e-02,  2.85806011e-02,\n",
       "        -2.56563836e-03,  3.08240732e-02,  2.89068085e-02,\n",
       "         3.79854788e-02,  3.80608951e-02,  2.74313262e-02,\n",
       "         3.67847292e-02,  1.00000000e+00,  1.10000000e+02],\n",
       "       [ 2.85806011e-02, -2.56563836e-03,  3.08240732e-02,\n",
       "         2.89068085e-02,  2.77823068e-02,  2.78575462e-02,\n",
       "         2.74313262e-02,  3.67847292e-02,  2.85806011e-02,\n",
       "        -2.56563836e-03,  3.08240732e-02,  2.89068085e-02,\n",
       "         3.79854788e-02,  3.80608951e-02,  3.76345569e-02,\n",
       "         3.67847292e-02,  1.00000000e+00,  1.10000000e+02]])"
      ]
     },
     "execution_count": 46,
     "metadata": {},
     "output_type": "execute_result"
    }
   ],
   "source": [
    "y[:5]"
   ]
  },
  {
   "cell_type": "code",
   "execution_count": 17,
   "metadata": {},
   "outputs": [],
   "source": [
    "arr = np.array([1,2,3])"
   ]
  },
  {
   "cell_type": "code",
   "execution_count": 20,
   "metadata": {},
   "outputs": [],
   "source": [
    "pp = np.array([0,2,1])"
   ]
  },
  {
   "cell_type": "code",
   "execution_count": 21,
   "metadata": {},
   "outputs": [
    {
     "data": {
      "text/plain": [
       "array([1, 3, 2])"
      ]
     },
     "execution_count": 21,
     "metadata": {},
     "output_type": "execute_result"
    }
   ],
   "source": [
    "arr[pp]"
   ]
  },
  {
   "cell_type": "code",
   "execution_count": 32,
   "metadata": {},
   "outputs": [],
   "source": [
    "pp=np.arange(x.shape[0])"
   ]
  },
  {
   "cell_type": "code",
   "execution_count": 35,
   "metadata": {},
   "outputs": [],
   "source": [
    "np.random.shuffle(pp)"
   ]
  },
  {
   "cell_type": "code",
   "execution_count": 36,
   "metadata": {},
   "outputs": [
    {
     "data": {
      "text/plain": [
       "array([33208,  4192, 35312, 29557, 12025])"
      ]
     },
     "execution_count": 36,
     "metadata": {},
     "output_type": "execute_result"
    }
   ],
   "source": [
    "pp[:5]"
   ]
  },
  {
   "cell_type": "code",
   "execution_count": 37,
   "metadata": {},
   "outputs": [],
   "source": [
    "y=x[pp]"
   ]
  },
  {
   "cell_type": "code",
   "execution_count": 38,
   "metadata": {},
   "outputs": [
    {
     "data": {
      "text/plain": [
       "array([[ 2.85806011e-02, -2.56563836e-03,  8.17723574e-02,\n",
       "         2.89068085e-02,  3.79854788e-02,  3.80608951e-02,\n",
       "         3.76345569e-02,  3.67847292e-02,  2.85806011e-02,\n",
       "        -2.56563836e-03,  3.08240732e-02,  2.89068085e-02,\n",
       "         2.77823068e-02,  2.78575462e-02,  3.76345569e-02,\n",
       "         3.67847292e-02,  1.00000000e+00,  1.10000000e+02],\n",
       "       [ 3.44862905e-01,  7.63660205e-03,  9.19620142e-02,\n",
       "         2.89068085e-02,  3.79854788e-02,  2.78575462e-02,\n",
       "         3.76345569e-02,  4.69869361e-02,  2.36498859e+00,\n",
       "        -2.56563836e-03,  3.08240732e-02,  2.89068085e-02,\n",
       "         2.77823068e-02,  2.78575462e-02,  3.76345569e-02,\n",
       "         3.67847292e-02,  1.00000000e+00,  1.10000000e+02],\n",
       "       [ 2.85806011e-02,  7.63660205e-03,  5.12033869e-02,\n",
       "         3.91079217e-02,  5.83918227e-02,  3.80608951e-02,\n",
       "         3.76345569e-02,  3.67847292e-02,  3.87832560e-02,\n",
       "         7.63660205e-03,  4.10137300e-02,  2.89068085e-02,\n",
       "         4.89469534e+00,  2.78575462e-02,  3.76345569e-02,\n",
       "         4.69869361e-02,  1.00000000e+00,  1.10000000e+02],\n",
       "       [ 3.87832560e-02,  7.63660205e-03,  3.08240732e-02,\n",
       "         2.89068085e-02,  3.79854788e-02,  3.80608951e-02,\n",
       "         3.76345569e-02,  3.67847292e-02,  3.87832560e-02,\n",
       "         7.63660205e-03,  1.02151671e-01,  2.89068085e-02,\n",
       "         3.79854788e-02,  3.80608951e-02,  2.74313262e-02,\n",
       "         3.67847292e-02,  1.00000000e+00,  1.10000000e+02],\n",
       "       [ 3.87832560e-02, -2.56563836e-03,  1.12341328e-01,\n",
       "         2.89068085e-02,  3.79854788e-02,  3.80608951e-02,\n",
       "         8.64096240e-01,  4.69869361e-02,  3.87832560e-02,\n",
       "         7.63660205e-03,  3.08240732e-02,  2.89068085e-02,\n",
       "         3.79854788e-02,  3.80608951e-02,  5.73103726e+00,\n",
       "         3.67847292e-02,  1.00000000e+00,  1.10000000e+02]])"
      ]
     },
     "execution_count": 38,
     "metadata": {},
     "output_type": "execute_result"
    }
   ],
   "source": [
    "y[:5]"
   ]
  },
  {
   "cell_type": "markdown",
   "metadata": {},
   "source": [
    "> Memory eating Cell bEllow!!!"
   ]
  },
  {
   "cell_type": "code",
   "execution_count": 3,
   "metadata": {},
   "outputs": [
    {
     "name": "stdout",
     "output_type": "stream",
     "text": [
      "(37663, 18)\n",
      "(67609, 18)\n",
      "(105258, 18)\n",
      "(127309, 18)\n",
      "(160019, 18)\n",
      "(188331, 18)\n",
      "(220411, 18)\n",
      "(257173, 18)\n",
      "(282636, 18)\n",
      "(324226, 18)\n",
      "(360186, 18)\n",
      "(388093, 18)\n",
      "(415751, 18)\n",
      "(449558, 18)\n",
      "(485815, 18)\n",
      "(526538, 18)\n",
      "(559722, 18)\n",
      "(577500, 18)\n",
      "(610924, 18)\n",
      "(639737, 18)\n",
      "(672375, 18)\n",
      "(701373, 18)\n",
      "(739300, 18)\n",
      "(776931, 18)\n",
      "(809615, 18)\n",
      "(825840, 18)\n",
      "(863804, 18)\n",
      "(893245, 18)\n",
      "(924379, 18)\n",
      "(963131, 18)\n",
      "(999810, 18)\n",
      "(1035060, 18)\n",
      "(1051519, 18)\n",
      "(1091524, 18)\n",
      "(1111435, 18)\n",
      "(1155430, 18)\n",
      "(1175680, 18)\n",
      "(1210172, 18)\n",
      "(1245398, 18)\n",
      "(1266574, 18)\n",
      "(1294290, 18)\n",
      "(1336657, 18)\n",
      "(1369470, 18)\n",
      "(1373992, 18)\n",
      "(1404527, 18)\n",
      "(1440996, 18)\n",
      "(1473310, 18)\n",
      "(1509856, 18)\n",
      "(1547922, 18)\n",
      "(1578015, 18)\n",
      "(1594211, 18)\n",
      "(1624521, 18)\n",
      "(1671086, 18)\n",
      "(1695588, 18)\n",
      "(1725311, 18)\n",
      "(1744129, 18)\n",
      "(1783496, 18)\n",
      "(1813355, 18)\n",
      "(1850149, 18)\n",
      "(1872155, 18)\n",
      "(1882281, 18)\n",
      "(1921816, 18)\n",
      "(1948911, 18)\n",
      "(1986131, 18)\n",
      "(2023392, 18)\n",
      "(2060607, 18)\n",
      "(2090912, 18)\n",
      "(2125378, 18)\n",
      "(2157851, 18)\n",
      "(2191232, 18)\n",
      "(2229373, 18)\n",
      "(2242813, 18)\n",
      "(2273542, 18)\n",
      "(2312099, 18)\n",
      "(2346624, 18)\n",
      "(2371362, 18)\n",
      "(2404923, 18)\n",
      "(2438637, 18)\n",
      "(2462667, 18)\n",
      "(2492511, 18)\n",
      "(2528254, 18)\n",
      "(2560229, 18)\n",
      "(2595868, 18)\n",
      "(2613945, 18)\n",
      "(2648816, 18)\n",
      "(2663708, 18)\n",
      "(2697913, 18)\n",
      "(2715814, 18)\n",
      "(2744223, 18)\n",
      "(2782581, 18)\n",
      "(2812568, 18)\n",
      "(2845183, 18)\n",
      "(2878159, 18)\n",
      "(2904949, 18)\n",
      "(2937750, 18)\n",
      "(2951186, 18)\n",
      "(2982606, 18)\n",
      "(3024424, 18)\n",
      "(3042008, 18)\n",
      "(3079008, 18)\n",
      "(3115464, 18)\n",
      "(3151744, 18)\n",
      "(3169820, 18)\n",
      "(3202891, 18)\n",
      "(3237646, 18)\n",
      "(3278745, 18)\n",
      "(3299985, 18)\n",
      "(3329997, 18)\n",
      "(3351641, 18)\n",
      "(3387659, 18)\n",
      "(3420547, 18)\n",
      "(3456797, 18)\n",
      "(3480307, 18)\n",
      "(3505875, 18)\n",
      "(3523269, 18)\n",
      "(3559553, 18)\n",
      "(3587940, 18)\n",
      "(3624628, 18)\n",
      "(3650309, 18)\n",
      "(3683139, 18)\n",
      "(3727908, 18)\n",
      "(3764449, 18)\n",
      "(3798661, 18)\n",
      "(3833619, 18)\n",
      "(3862637, 18)\n",
      "(3877510, 18)\n",
      "(3915339, 18)\n",
      "(3944075, 18)\n",
      "(3958595, 18)\n",
      "(3994647, 18)\n",
      "(4028280, 18)\n",
      "(4075231, 18)\n",
      "(4090207, 18)\n",
      "(4126489, 18)\n",
      "(4162027, 18)\n",
      "(4193576, 18)\n",
      "(4220411, 18)\n",
      "(4255500, 18)\n",
      "(4291901, 18)\n",
      "(4325662, 18)\n",
      "(4363943, 18)\n",
      "(4408441, 18)\n",
      "(4437551, 18)\n",
      "(4475033, 18)\n",
      "(4509835, 18)\n",
      "(4546959, 18)\n",
      "(4573452, 18)\n",
      "(4602603, 18)\n",
      "(4617259, 18)\n",
      "(4647934, 18)\n",
      "(4673594, 18)\n",
      "(4696621, 18)\n",
      "(4714183, 18)\n",
      "(4737659, 18)\n",
      "(4772141, 18)\n",
      "(4809439, 18)\n",
      "(4845095, 18)\n",
      "(4862419, 18)\n",
      "(4894268, 18)\n",
      "(4929391, 18)\n",
      "(4951854, 18)\n",
      "(4987720, 18)\n",
      "(5023770, 18)\n",
      "(5059960, 18)\n"
     ]
    }
   ],
   "source": [
    "for i,f in enumerate(glob.glob('seived/*csv')):\n",
    "    if i==0:\n",
    "        x = np.loadtxt(f, delimiter=',')\n",
    "        \n",
    "    else:\n",
    "        x = np.concatenate((x,np.loadtxt(f, delimiter=',')), axis=0)\n",
    "    print(x.shape)"
   ]
  },
  {
   "cell_type": "markdown",
   "metadata": {},
   "source": [
    "`x` is in order. So we have to shuffle it."
   ]
  },
  {
   "cell_type": "code",
   "execution_count": 4,
   "metadata": {},
   "outputs": [],
   "source": [
    "shuffler = np.arange(x.shape[0])"
   ]
  },
  {
   "cell_type": "code",
   "execution_count": 5,
   "metadata": {},
   "outputs": [],
   "source": [
    "np.random.shuffle(shuffler)"
   ]
  },
  {
   "cell_type": "code",
   "execution_count": 6,
   "metadata": {},
   "outputs": [],
   "source": [
    "x = x[shuffler]"
   ]
  },
  {
   "cell_type": "code",
   "execution_count": 7,
   "metadata": {},
   "outputs": [
    {
     "data": {
      "text/plain": [
       "array([[ 2.85806011e-02,  7.63660205e-03,  3.08240732e-02,\n",
       "         3.91079217e-02,  3.79854788e-02,  2.78575462e-02,\n",
       "         2.74313262e-02,  3.67847292e-02,  2.85806011e-02,\n",
       "        -2.56563836e-03,  3.08240732e-02,  2.89068085e-02,\n",
       "         3.79854788e-02,  3.80608951e-02,  3.76345569e-02,\n",
       "         4.69869361e-02,  1.00000000e+00,  6.50000000e+01],\n",
       "       [ 2.85806011e-02,  7.63660205e-03,  3.08240732e-02,\n",
       "         2.89068085e-02,  3.79854788e-02,  3.80608951e-02,\n",
       "         3.76345569e-02,  3.67847292e-02,  3.87832560e-02,\n",
       "        -2.56563836e-03,  3.08240732e-02,  2.89068085e-02,\n",
       "         3.79854788e-02,  3.80608951e-02,  3.76345569e-02,\n",
       "         4.69869361e-02,  0.00000000e+00,  1.95000000e+02],\n",
       "       [ 6.20334588e-01, -2.56563836e-03,  3.08240732e-02,\n",
       "         3.91079217e-02,  3.79854788e-02,  2.78575462e-02,\n",
       "         3.76345569e-02,  3.67847292e-02,  6.27260543e+00,\n",
       "         7.63660205e-03,  3.08240732e-02,  2.89068085e-02,\n",
       "         3.79854788e-02,  3.80608951e-02,  3.76345569e-02,\n",
       "         3.67847292e-02,  1.00000000e+00,  1.05000000e+02],\n",
       "       [ 3.87832560e-02, -2.56563836e-03,  3.08240732e-02,\n",
       "         3.91079217e-02,  3.79854788e-02,  3.80608951e-02,\n",
       "         3.76345569e-02,  3.67847292e-02,  3.87832560e-02,\n",
       "        -2.56563836e-03,  3.08240732e-02,  2.89068085e-02,\n",
       "         3.79854788e-02,  3.80608951e-02,  8.84502702e-01,\n",
       "         7.17832954e+00,  4.00000000e+00,  7.50000000e+01],\n",
       "       [ 2.85806011e-02, -2.56563836e-03,  9.19620142e-02,\n",
       "         3.91079217e-02,  2.77823068e-02,  3.80608951e-02,\n",
       "         3.76345569e-02,  4.69869361e-02,  2.85806011e-02,\n",
       "        -2.56563836e-03,  3.08240732e-02,  2.89068085e-02,\n",
       "         3.79854788e-02,  3.80608951e-02,  3.76345569e-02,\n",
       "         4.69869361e-02,  3.00000000e+00,  3.00000000e+01]])"
      ]
     },
     "execution_count": 7,
     "metadata": {},
     "output_type": "execute_result"
    }
   ],
   "source": [
    "x[:5]"
   ]
  },
  {
   "cell_type": "code",
   "execution_count": 8,
   "metadata": {},
   "outputs": [
    {
     "data": {
      "text/plain": [
       "(5059960, 18)"
      ]
     },
     "execution_count": 8,
     "metadata": {},
     "output_type": "execute_result"
    }
   ],
   "source": [
    "x.shape"
   ]
  },
  {
   "cell_type": "markdown",
   "metadata": {},
   "source": [
    "# Divide data into training, validation and testing and saving"
   ]
  },
  {
   "cell_type": "code",
   "execution_count": 19,
   "metadata": {},
   "outputs": [],
   "source": [
    "total_data = x.shape[0]"
   ]
  },
  {
   "cell_type": "code",
   "execution_count": 23,
   "metadata": {},
   "outputs": [
    {
     "data": {
      "text/plain": [
       "3541972"
      ]
     },
     "execution_count": 23,
     "metadata": {},
     "output_type": "execute_result"
    }
   ],
   "source": [
    "train_size = int(total_data * 70 / 100)\n",
    "train_size"
   ]
  },
  {
   "cell_type": "code",
   "execution_count": 24,
   "metadata": {},
   "outputs": [
    {
     "data": {
      "text/plain": [
       "758994"
      ]
     },
     "execution_count": 24,
     "metadata": {},
     "output_type": "execute_result"
    }
   ],
   "source": [
    "val_size = int((total_data - train_size) / 2)\n",
    "val_size"
   ]
  },
  {
   "cell_type": "code",
   "execution_count": 25,
   "metadata": {},
   "outputs": [
    {
     "data": {
      "text/plain": [
       "758994"
      ]
     },
     "execution_count": 25,
     "metadata": {},
     "output_type": "execute_result"
    }
   ],
   "source": [
    "test_size = val_size\n",
    "test_size"
   ]
  },
  {
   "cell_type": "code",
   "execution_count": 27,
   "metadata": {},
   "outputs": [],
   "source": [
    "savemat('all.mat', {'All':x})"
   ]
  },
  {
   "cell_type": "code",
   "execution_count": 29,
   "metadata": {},
   "outputs": [
    {
     "name": "stdout",
     "output_type": "stream",
     "text": [
      "695M\tshuffled\n"
     ]
    }
   ],
   "source": [
    "!du -hs shuffled"
   ]
  },
  {
   "cell_type": "code",
   "execution_count": 30,
   "metadata": {},
   "outputs": [],
   "source": [
    "savemat('Final_data/data.mat', {'train':x[:train_size], \n",
    "                                'val':x[train_size:train_size+val_size], \n",
    "                                'test':x[train_size+val_size:]})"
   ]
  },
  {
   "cell_type": "code",
   "execution_count": 31,
   "metadata": {},
   "outputs": [
    {
     "name": "stdout",
     "output_type": "stream",
     "text": [
      "695M\tFinal_data\n"
     ]
    }
   ],
   "source": [
    "!du -hs Final_data"
   ]
  },
  {
   "cell_type": "markdown",
   "metadata": {},
   "source": [
    "> First we considered rows of the data-stream individually. Now we set a window-size of N and take those rows together as input."
   ]
  },
  {
   "cell_type": "markdown",
   "metadata": {},
   "source": [
    "# Save data generator friendly"
   ]
  },
  {
   "cell_type": "code",
   "execution_count": 5,
   "metadata": {},
   "outputs": [],
   "source": [
    "def seive(chemtype,matfile):\n",
    "    x=loadmat(matfile)\n",
    "    chemid = types.index(chemtype)\n",
    "    concentration_string=x['filename1'][0]\n",
    "    if concentration_string=='outlier':\n",
    "        return 0, 0\n",
    "    elif not concentration_string.isnumeric():\n",
    "        concentration_string = concentration_string[:2]\n",
    "    concentration=int(concentration_string)\n",
    "    scattering = x['scattering'][0][0][0]\n",
    "    transmittance = x['direct'][0][0][0]\n",
    "    merged = np.concatenate((scattering,transmittance), axis=1)\n",
    "    #uq_merged = np.unique(merged, axis=0)\n",
    "    #uq_count = uq_merged.shape[0]\n",
    "    count = merged.shape[0]\n",
    "    #type_col = np.ones((uq_count,1))*chemid\n",
    "    #type_col = np.ones((count,1))*chemid\n",
    "    #concentration_col = np.ones((uq_count,1))*concentration\n",
    "    #concentration_col = np.ones((count,1))*concentration\n",
    "    #uq_merged = np.concatenate((uq_merged, type_col, concentration_col),axis=1)\n",
    "    #merged = np.concatenate((merged, type_col, concentration_col),axis=1)\n",
    "    #np.savetxt(\"seived/{}_{:03d}.csv\".format(chemtype,concentration), uq_merged, delimiter=\",\")\n",
    "    savemat('unsieved_concat/{}_{:03d}.mat'.format(chemtype, concentration),{'data':merged,\n",
    "                                                                             'type':chemid, \n",
    "                                                                             'concentration':concentration})\n",
    "    #return uq_count, concentration\n",
    "    return count, concentration"
   ]
  },
  {
   "cell_type": "code",
   "execution_count": 6,
   "metadata": {},
   "outputs": [
    {
     "name": "stdout",
     "output_type": "stream",
     "text": [
      "kmno4 Concentration = 35 Count = 56250\n",
      "kmno4 Concentration = 40 Count = 56250\n",
      "kmno4 Concentration = 185 Count = 56250\n",
      "kmno4 Concentration = 95 Count = 56250\n",
      "kmno4 Concentration = 115 Count = 56250\n",
      "kmno4 Concentration = 140 Count = 56250\n",
      "kmno4 Concentration = 145 Count = 56250\n",
      "kmno4 Concentration = 125 Count = 56250\n",
      "kmno4 Concentration = 65 Count = 56250\n",
      "kmno4 Concentration = 110 Count = 56250\n",
      "kmno4 Concentration = 165 Count = 56250\n",
      "kmno4 Concentration = 105 Count = 56250\n",
      "kmno4 Concentration = 155 Count = 56250\n",
      "kmno4 Concentration = 45 Count = 56250\n",
      "kmno4 Concentration = 160 Count = 56250\n",
      "kmno4 Concentration = 120 Count = 56250\n",
      "kmno4 Concentration = 180 Count = 56250\n",
      "kmno4 Concentration = 175 Count = 56250\n",
      "kmno4 Concentration = 90 Count = 56250\n",
      "kmno4 Concentration = 170 Count = 56250\n",
      "kmno4 Concentration = 70 Count = 56250\n",
      "kmno4 Concentration = 30 Count = 56250\n",
      "kmno4 Concentration = 50 Count = 56250\n",
      "kmno4 Concentration = 190 Count = 56250\n",
      "kmno4 Concentration = 55 Count = 56250\n",
      "kmno4 Concentration = 75 Count = 56250\n",
      "kmno4 Concentration = 85 Count = 56250\n",
      "kmno4 Concentration = 195 Count = 56250\n",
      "kmno4 Concentration = 130 Count = 56250\n",
      "kmno4 Concentration = 150 Count = 56250\n",
      "kmno4 Concentration = 100 Count = 56250\n",
      "kmno4 Concentration = 135 Count = 56250\n",
      "kmno4 Concentration = 60 Count = 56250\n",
      "kmno4 Concentration = 80 Count = 56250\n",
      "kmno4 Concentration = 200 Count = 56250\n",
      "kmno4 total=1968750\n",
      "set1 Concentration = 17 Count = 56250\n",
      "set1 Concentration = 30 Count = 56250\n",
      "set1 Concentration = 195 Count = 56250\n",
      "set1 Concentration = 35 Count = 56250\n",
      "set1 Concentration = 70 Count = 56250\n",
      "set1 Concentration = 200 Count = 56250\n",
      "set1 Concentration = 210 Count = 56250\n",
      "set1 Concentration = 40 Count = 56250\n",
      "set1 Concentration = 85 Count = 56250\n",
      "set1 Concentration = 120 Count = 56250\n",
      "set1 Concentration = 190 Count = 56250\n",
      "set1 Concentration = 175 Count = 56250\n",
      "set1 Concentration = 165 Count = 56250\n",
      "set1 Concentration = 115 Count = 56250\n",
      "set1 Concentration = 95 Count = 56250\n",
      "set1 Concentration = 55 Count = 56250\n",
      "set1 Concentration = 220 Count = 56250\n",
      "set1 Concentration = 105 Count = 56250\n",
      "set1 Concentration = 110 Count = 56250\n",
      "set1 Concentration = 60 Count = 56250\n",
      "set1 Concentration = 130 Count = 56250\n",
      "set1 Concentration = 100 Count = 56250\n",
      "set1 Concentration = 160 Count = 56250\n",
      "set1 Concentration = 145 Count = 56250\n",
      "set1 Concentration = 80 Count = 56250\n",
      "set1 Concentration = 125 Count = 56250\n",
      "set1 Concentration = 185 Count = 56250\n",
      "set1 Concentration = 215 Count = 56250\n",
      "set1 Concentration = 75 Count = 56250\n",
      "set1 Concentration = 225 Count = 56250\n",
      "set1 Concentration = 45 Count = 56250\n",
      "set1 Concentration = 50 Count = 56250\n",
      "set1 Concentration = 150 Count = 56250\n",
      "set1 Concentration = 180 Count = 56250\n",
      "set1 Concentration = 135 Count = 56250\n",
      "set1 Concentration = 90 Count = 56250\n",
      "set1 Concentration = 205 Count = 56250\n",
      "set1 Concentration = 155 Count = 56250\n",
      "set1 Concentration = 140 Count = 56250\n",
      "set1 Concentration = 65 Count = 56250\n",
      "set1 total=2250000\n",
      "set2 Concentration = 16 Count = 56250\n",
      "set2 Concentration = 18 Count = 56250\n",
      "set2 Concentration = 60 Count = 56250\n",
      "set2 Concentration = 10 Count = 56250\n",
      "set2 Concentration = 14 Count = 56250\n",
      "set2 Concentration = 95 Count = 56250\n",
      "set2 Concentration = 19 Count = 56250\n",
      "set2 Concentration = 11 Count = 56250\n",
      "set2 Concentration = 0 Count = 0\n",
      "set2 Concentration = 75 Count = 56250\n",
      "set2 Concentration = 19 Count = 56250\n",
      "set2 Concentration = 15 Count = 56250\n",
      "set2 Concentration = 70 Count = 56250\n",
      "set2 Concentration = 12 Count = 56250\n",
      "set2 Concentration = 13 Count = 56250\n",
      "set2 Concentration = 11 Count = 56250\n",
      "set2 Concentration = 90 Count = 56250\n",
      "set2 Concentration = 65 Count = 56250\n",
      "set2 Concentration = 18 Count = 56250\n",
      "set2 Concentration = 15 Count = 56250\n",
      "set2 Concentration = 17 Count = 56250\n",
      "set2 Concentration = 13 Count = 56250\n",
      "set2 Concentration = 55 Count = 56250\n",
      "set2 Concentration = 14 Count = 56250\n",
      "set2 Concentration = 80 Count = 56250\n",
      "set2 Concentration = 12 Count = 56250\n",
      "set2 Concentration = 16 Count = 56250\n",
      "set2 Concentration = 85 Count = 56250\n",
      "set2 Concentration = 10 Count = 56250\n",
      "set2 Concentration = 17 Count = 56250\n",
      "set2 total=1631250\n",
      "set5 Concentration = 145 Count = 56250\n",
      "set5 Concentration = 150 Count = 56250\n",
      "set5 Concentration = 190 Count = 56250\n",
      "set5 Concentration = 185 Count = 56250\n",
      "set5 Concentration = 155 Count = 56250\n",
      "set5 Concentration = 40 Count = 56250\n",
      "set5 Concentration = 115 Count = 56250\n",
      "set5 Concentration = 180 Count = 56250\n",
      "set5 Concentration = 160 Count = 56250\n",
      "set5 Concentration = 205 Count = 56250\n",
      "set5 Concentration = 110 Count = 56250\n",
      "set5 Concentration = 120 Count = 56250\n",
      "set5 Concentration = 80 Count = 56250\n",
      "set5 Concentration = 35 Count = 56250\n",
      "set5 Concentration = 65 Count = 56250\n",
      "set5 Concentration = 105 Count = 56250\n",
      "set5 Concentration = 55 Count = 56250\n",
      "set5 Concentration = 195 Count = 56250\n",
      "set5 Concentration = 45 Count = 56250\n",
      "set5 Concentration = 70 Count = 56250\n",
      "set5 Concentration = 60 Count = 56250\n",
      "set5 Concentration = 30 Count = 56250\n",
      "set5 Concentration = 130 Count = 56250\n",
      "set5 Concentration = 50 Count = 56250\n",
      "set5 Concentration = 90 Count = 56250\n",
      "set5 Concentration = 210 Count = 56250\n",
      "set5 Concentration = 75 Count = 56250\n",
      "set5 Concentration = 125 Count = 56250\n",
      "set5 Concentration = 220 Count = 56250\n",
      "set5 Concentration = 215 Count = 56250\n",
      "set5 Concentration = 85 Count = 56250\n",
      "set5 Concentration = 95 Count = 56250\n",
      "set5 Concentration = 225 Count = 56250\n",
      "set5 Concentration = 200 Count = 56250\n",
      "set5 Concentration = 165 Count = 56250\n",
      "set5 Concentration = 170 Count = 56250\n",
      "set5 Concentration = 175 Count = 56250\n",
      "set5 Concentration = 135 Count = 56250\n",
      "set5 Concentration = 140 Count = 56250\n",
      "set5 Concentration = 100 Count = 56250\n",
      "set5 total=2250000\n",
      "set9 Concentration = 130 Count = 56250\n",
      "set9 Concentration = 115 Count = 56250\n",
      "set9 Concentration = 170 Count = 56250\n",
      "set9 Concentration = 75 Count = 56250\n",
      "set9 Concentration = 165 Count = 56250\n",
      "set9 Concentration = 95 Count = 56250\n",
      "set9 Concentration = 105 Count = 56250\n",
      "set9 Concentration = 100 Count = 56250\n",
      "set9 Concentration = 65 Count = 56250\n",
      "set9 Concentration = 175 Count = 56250\n",
      "set9 Concentration = 85 Count = 56250\n",
      "set9 Concentration = 55 Count = 56250\n",
      "set9 Concentration = 36 Count = 56250\n",
      "set9 Concentration = 180 Count = 56250\n",
      "set9 Concentration = 80 Count = 56250\n",
      "set9 Concentration = 140 Count = 56250\n",
      "set9 Concentration = 50 Count = 56250\n",
      "set9 Concentration = 110 Count = 56250\n",
      "set9 Concentration = 125 Count = 56250\n",
      "set9 Concentration = 120 Count = 56250\n",
      "set9 Concentration = 40 Count = 56250\n",
      "set9 Concentration = 155 Count = 56250\n",
      "set9 Concentration = 145 Count = 56250\n",
      "set9 Concentration = 45 Count = 56250\n",
      "set9 Concentration = 150 Count = 56250\n",
      "set9 Concentration = 70 Count = 56250\n",
      "set9 Concentration = 160 Count = 56250\n",
      "set9 Concentration = 135 Count = 56250\n",
      "set9 Concentration = 90 Count = 56250\n",
      "set9 Concentration = 60 Count = 56250\n",
      "set9 total=1687500\n"
     ]
    }
   ],
   "source": [
    "for chemtype in types:\n",
    "    total=0\n",
    "    for matfile in glob.glob('data/{}/*.mat'.format(chemtype)):\n",
    "        try:\n",
    "            #uq_count, concentration=seive(chemtype,matfile)\n",
    "            count, concentration=seive(chemtype,matfile)\n",
    "            #total+=uq_count\n",
    "            total+=count\n",
    "            #print('%s Concentration = %d Count = %d'%(chemtype,concentration, uq_count))\n",
    "            print('%s Concentration = %d Count = %d'%(chemtype,concentration, count))\n",
    "        except Exception as e:\n",
    "            print(e, matfile)\n",
    "    print('%s total=%d'%(chemtype,total))"
   ]
  },
  {
   "cell_type": "code",
   "execution_count": 4,
   "metadata": {},
   "outputs": [],
   "source": [
    "m=loadmat('unsieved_concat/kmno4_045.mat')"
   ]
  },
  {
   "cell_type": "code",
   "execution_count": 5,
   "metadata": {},
   "outputs": [
    {
     "data": {
      "text/plain": [
       "(56250, 16)"
      ]
     },
     "execution_count": 5,
     "metadata": {},
     "output_type": "execute_result"
    }
   ],
   "source": [
    "m['data'].shape[]"
   ]
  }
 ],
 "metadata": {
  "kernelspec": {
   "display_name": "Python 3",
   "language": "python",
   "name": "python3"
  },
  "language_info": {
   "codemirror_mode": {
    "name": "ipython",
    "version": 3
   },
   "file_extension": ".py",
   "mimetype": "text/x-python",
   "name": "python",
   "nbconvert_exporter": "python",
   "pygments_lexer": "ipython3",
   "version": "3.5.5"
  }
 },
 "nbformat": 4,
 "nbformat_minor": 2
}
